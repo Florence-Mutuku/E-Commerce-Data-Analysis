{
 "cells": [
  {
   "cell_type": "code",
   "execution_count": 1,
   "metadata": {},
   "outputs": [
    {
     "name": "stdout",
     "output_type": "stream",
     "text": [
      "SQL script updated with your amazon.csv path.\n",
      "Remember to execute the SQL script using a MySQL client.\n"
     ]
    }
   ],
   "source": [
    "import os\n",
    "\n",
    "sql_script = \"\"\" \n",
    "-- 1. Create the database\n",
    "CREATE DATABASE IF NOT EXISTS ecommerce_db;\n",
    "\n",
    "-- 2. Switch to the database\n",
    "USE ecommerce_db;\n",
    "\n",
    "-- 3. Create the products table\n",
    "CREATE TABLE IF NOT EXISTS products (\n",
    "    product_id VARCHAR(255),\n",
    "    product_name VARCHAR(255),\n",
    "    category TEXT,\n",
    "    discounted_price DECIMAL(10, 2),\n",
    "    actual_price DECIMAL(10, 2),\n",
    "    discount_percentage DECIMAL(5, 2),\n",
    "    rating DECIMAL(3, 2),\n",
    "    rating_count INT,\n",
    "    about_product TEXT,\n",
    "    user_id VARCHAR(255),\n",
    "    user_name VARCHAR(255),\n",
    "    review_id VARCHAR(255),\n",
    "    review_title TEXT,\n",
    "    review_content TEXT,\n",
    "    img_link TEXT,\n",
    "    product_link TEXT\n",
    ");\n",
    "\n",
    "-- 4. Load the amazon.csv data (replace '/path/to/amazon.csv' with the actual path)\n",
    "LOAD DATA INFILE '/path/to/amazon.csv'\n",
    "INTO TABLE products\n",
    "FIELDS TERMINATED BY ','\n",
    "ENCLOSED BY '\"'\n",
    "LINES TERMINATED BY '\\n'\n",
    "IGNORE 1 ROWS\n",
    "(product_id, product_name, category, @discounted_price, @actual_price, @discount_percentage, @rating, @rating_count, about_product, user_id, user_name, review_id, review_title, review_content, img_link, product_link)\n",
    "SET discounted_price = NULLIF(REPLACE(@discounted_price, '₹', ''), ''),\n",
    "    actual_price = NULLIF(REPLACE(REPLACE(@actual_price, '₹', ''), ',', ''), ''),\n",
    "    discount_percentage = NULLIF(REPLACE(@discount_percentage, '%', ''), ''),\n",
    "    rating = NULLIF(@rating, ''),\n",
    "    rating_count = NULLIF(REPLACE(@rating_count, ',', ''), '');\n",
    "\"\"\"\n",
    "\n",
    "file_path = \"ecommerce_setup.sql\"\n",
    "\n",
    "try:\n",
    "    with open(file_path, \"w\", encoding=\"utf-8\") as sql_file:\n",
    "        sql_file.write(sql_script)\n",
    "    print(f\"SQL script saved to {file_path}\")\n",
    "except Exception as e:\n",
    "    print(f\"An error occurred: {e}\")\n",
    "\n",
    "# Example of how to get user input for the file path (optional, but recommended)\n",
    "csv_file_path = input(\"Enter the full path to your amazon.csv file: \")\n",
    "\n",
    "# Replace placeholder in the SQL script\n",
    "with open(file_path, \"r\", encoding=\"utf-8\") as file:\n",
    "    sql_content = file.read()\n",
    "\n",
    "updated_sql_content = sql_content.replace(\"'/path/to/amazon.csv'\", f\"'{csv_file_path}'\")\n",
    "\n",
    "with open(file_path, \"w\", encoding=\"utf-8\") as file:\n",
    "    file.write(updated_sql_content)\n",
    "\n",
    "print(f\"SQL script updated with your amazon.csv path.\")\n",
    "\n",
    "print(\"Remember to execute the SQL script using a MySQL client.\")"
   ]
  }
 ],
 "metadata": {
  "kernelspec": {
   "display_name": "Python 3",
   "language": "python",
   "name": "python3"
  },
  "language_info": {
   "codemirror_mode": {
    "name": "ipython",
    "version": 3
   },
   "file_extension": ".py",
   "mimetype": "text/x-python",
   "name": "python",
   "nbconvert_exporter": "python",
   "pygments_lexer": "ipython3",
   "version": "3.11.9"
  }
 },
 "nbformat": 4,
 "nbformat_minor": 2
}
